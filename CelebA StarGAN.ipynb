{
 "cells": [
  {
   "cell_type": "markdown",
   "id": "adacedc8-7cfe-40f4-a325-5ff63b80404b",
   "metadata": {},
   "source": [
    "# Import Libraries"
   ]
  },
  {
   "cell_type": "code",
   "execution_count": null,
   "id": "b9c17116-e5f4-4b37-ab4e-1f48fd5aa2d9",
   "metadata": {},
   "outputs": [],
   "source": [
    "import os\n",
    "import math\n",
    "import itertools\n",
    "import random\n",
    "import glob\n",
    "import numpy as np\n",
    "import pandas as pd\n",
    "\n",
    "import torch\n",
    "import torch.nn as nn\n",
    "import torch.optim as optim\n",
    "import torch.nn.functional as F\n",
    "from torchvision import transforms\n",
    "from torch.utils.data import Dataset, DataLoader\n",
    "from torchvision.utils import make_grid, save_image\n",
    "\n",
    "import shutil\n",
    "import imageio\n",
    "import matplotlib.pyplot as plt\n",
    "import matplotlib.animation as animation\n",
    "from PIL import Image"
   ]
  },
  {
   "cell_type": "code",
   "execution_count": null,
   "id": "42797680-5aa7-47c9-ac97-a3994b45c917",
   "metadata": {},
   "outputs": [],
   "source": [
    "device = torch.device('cuda' if torch.cuda.is_available() else 'cpu')\n",
    "device"
   ]
  },
  {
   "cell_type": "markdown",
   "id": "3dbd8d4f-f137-41ae-964c-4a0b77272c5b",
   "metadata": {},
   "source": [
    "# Load Data"
   ]
  },
  {
   "cell_type": "code",
   "execution_count": null,
   "id": "df9be900-cd52-43d5-b1ec-6f43a3d4d31f",
   "metadata": {},
   "outputs": [],
   "source": [
    "class CelebADataset(Dataset):\n",
    "    def __init__(self, root, csv_file, transforms_=None, mode=\"train\", attributes=None):\n",
    "        self.transform = transforms.Compose(transforms_)\n",
    "        self.selected_attrs = attributes\n",
    "        self.files = sorted(glob.glob(\"%s/*.jpg\" % root))\n",
    "        self.files = self.files[:-2000] if mode == \"train\" else self.files[-2000:]\n",
    "        self.annotations = self.get_annotations(csv_file)\n",
    "\n",
    "    def get_annotations(self, csv_file):\n",
    "        annotations = {}\n",
    "        df = pd.read_csv(csv_file)\n",
    "        self.label_names = df.columns[1:]\n",
    "        \n",
    "        for _, row in df.iterrows():\n",
    "            filename = row[0]\n",
    "            labels = []\n",
    "            for attr in self.selected_attrs:\n",
    "                idx = self.label_names.get_loc(attr)\n",
    "                labels.append(1 * (row[idx + 1] == 1))\n",
    "            annotations[filename] = labels\n",
    "        return annotations\n",
    "\n",
    "    def __getitem__(self, index):\n",
    "        filepath = self.files[index % len(self.files)]\n",
    "        filename = os.path.basename(filepath)\n",
    "        img = self.transform(Image.open(filepath))\n",
    "        label = self.annotations[filename]\n",
    "        label = torch.FloatTensor(np.array(label))\n",
    "\n",
    "        return img, label\n",
    "\n",
    "    def __len__(self):\n",
    "        return len(self.files)"
   ]
  },
  {
   "cell_type": "code",
   "execution_count": null,
   "id": "d1d6e24e-edf9-4f32-a05e-2f04fc8b413b",
   "metadata": {},
   "outputs": [],
   "source": [
    "train_transforms = [\n",
    "    transforms.Resize(int(1.12 * 128), Image.BICUBIC),\n",
    "    transforms.RandomCrop(128),\n",
    "    transforms.RandomHorizontalFlip(),\n",
    "    transforms.ToTensor(),\n",
    "    transforms.Normalize(mean=(0.5, 0.5, 0.5), std=(0.5, 0.5, 0.5)),\n",
    "]"
   ]
  },
  {
   "cell_type": "code",
   "execution_count": null,
   "id": "31dab457-bd10-449a-9df7-63faf4477a25",
   "metadata": {},
   "outputs": [],
   "source": [
    "valid_transforms = [\n",
    "    transforms.Resize((128, 128), Image.BICUBIC),\n",
    "    transforms.ToTensor(),\n",
    "    transforms.Normalize((0.5, 0.5, 0.5), (0.5, 0.5, 0.5)),\n",
    "]"
   ]
  },
  {
   "cell_type": "code",
   "execution_count": null,
   "id": "c44cda39-54ca-461b-998e-ff322de88c30",
   "metadata": {},
   "outputs": [],
   "source": [
    "train_path = \"/mnt/d/Datasets/celeba/img_align_celeba/img_align_celeba/\"\n",
    "valid_path = \"/mnt/d/Datasets/celeba/img_align_celeba/img_align_celeba/\""
   ]
  },
  {
   "cell_type": "code",
   "execution_count": null,
   "id": "958f2982-883c-48ba-982f-3e95ce29cc01",
   "metadata": {},
   "outputs": [],
   "source": [
    "attributes_file = \"/mnt/d/Datasets/celeba/list_attr_celeba.csv\""
   ]
  },
  {
   "cell_type": "code",
   "execution_count": null,
   "id": "1e5526fc-aa99-4068-aada-cb23a6857a8e",
   "metadata": {},
   "outputs": [],
   "source": [
    "selected_attributes = [\"Black_Hair\", \"Blond_Hair\", \"Brown_Hair\", \"Male\", \"Young\"]"
   ]
  },
  {
   "cell_type": "code",
   "execution_count": null,
   "id": "adb11481-4a4f-4445-a14b-36ea2a8db7ab",
   "metadata": {},
   "outputs": [],
   "source": [
    "c_dim = len(selected_attributes)\n",
    "img_shape = (3, 128, 128)"
   ]
  },
  {
   "cell_type": "code",
   "execution_count": null,
   "id": "36126bdf-7b98-41d0-924e-7607dcfd7776",
   "metadata": {},
   "outputs": [],
   "source": [
    "train_dataloader = DataLoader(\n",
    "    CelebADataset(\n",
    "        train_path, attributes_file, transforms_=train_transforms, mode=\"train\", attributes=selected_attributes\n",
    "    ),\n",
    "    batch_size=16,\n",
    "    shuffle=True,\n",
    "    num_workers=4,\n",
    ")"
   ]
  },
  {
   "cell_type": "code",
   "execution_count": null,
   "id": "0d074d5a-9b0b-4dc3-9030-1329b83f8bdf",
   "metadata": {},
   "outputs": [],
   "source": [
    "valid_dataloader = DataLoader(\n",
    "    CelebADataset(\n",
    "        valid_path, attributes_file, transforms_=valid_transforms, mode=\"val\", attributes=selected_attributes\n",
    "    ),\n",
    "    batch_size=10,\n",
    "    shuffle=True,\n",
    "    num_workers=1,\n",
    ")"
   ]
  },
  {
   "cell_type": "markdown",
   "id": "52daf1ab-ddb3-4d29-bdb2-944085b773a5",
   "metadata": {},
   "source": [
    "# Visualization"
   ]
  },
  {
   "cell_type": "code",
   "execution_count": null,
   "id": "af79fc9b-7637-4b59-8f83-a05247bc4bad",
   "metadata": {},
   "outputs": [],
   "source": [
    "data_iter = iter(train_dataloader)\n",
    "images, _ = next(data_iter)\n",
    "\n",
    "def imshow(img):\n",
    "    npimg = img.numpy()\n",
    "    plt.imshow(npimg[0])\n",
    "    plt.axis('off')\n",
    "    plt.show()\n",
    "\n",
    "imshow(make_grid(images, nrow=8))"
   ]
  },
  {
   "cell_type": "markdown",
   "id": "61837132-82f4-4296-9e46-fc9c4763eaeb",
   "metadata": {},
   "source": [
    "# Network Initialization"
   ]
  },
  {
   "cell_type": "code",
   "execution_count": null,
   "id": "c439dfff-89a5-4276-b9a2-389a3e466a1e",
   "metadata": {},
   "outputs": [],
   "source": [
    "def weights_init_normal(m):\n",
    "    classname = m.__class__.__name__\n",
    "    if classname.find(\"Conv\") != -1:\n",
    "        torch.nn.init.normal_(m.weight.data, 0.0, 0.02)\n",
    "    elif classname.find(\"BatchNorm2d\") != -1:\n",
    "        torch.nn.init.normal_(m.weight.data, 1.0, 0.02)\n",
    "        torch.nn.init.constant_(m.bias.data, 0.0)"
   ]
  },
  {
   "cell_type": "markdown",
   "id": "f07eb486-4760-432a-b18a-bd02b02db1c2",
   "metadata": {},
   "source": [
    "# Generator"
   ]
  },
  {
   "cell_type": "code",
   "execution_count": null,
   "id": "619672ce-9e11-413b-be9d-53dbfca7e18c",
   "metadata": {},
   "outputs": [],
   "source": [
    "class Generator(nn.Module):\n",
    "    def __init__(self, img_shape, c_dim):\n",
    "        super(Generator, self).__init__()\n",
    "        channels, img_size, _ = img_shape\n",
    "\n",
    "        self.model = nn.Sequential(\n",
    "            # Initial convolution block\n",
    "            nn.Conv2d(channels + c_dim, 64, 7, stride=1, padding=3, bias=False),\n",
    "            nn.InstanceNorm2d(64, affine=True, track_running_stats=True),\n",
    "            nn.ReLU(inplace=True),\n",
    "\n",
    "            # Downsampling\n",
    "            nn.Conv2d(64, 128, 4, stride=2, padding=1, bias=False),\n",
    "            nn.InstanceNorm2d(128, affine=True, track_running_stats=True),\n",
    "            nn.ReLU(inplace=True),\n",
    "\n",
    "            nn.Conv2d(128, 256, 4, stride=2, padding=1, bias=False),\n",
    "            nn.InstanceNorm2d(256, affine=True, track_running_stats=True),\n",
    "            nn.ReLU(inplace=True),\n",
    "\n",
    "            # Residual blocks\n",
    "            nn.Conv2d(256, 256, 3, stride=1, padding=1, bias=False),\n",
    "            nn.InstanceNorm2d(256, affine=True, track_running_stats=True),\n",
    "            nn.ReLU(inplace=True),\n",
    "            nn.Conv2d(256, 256, 3, stride=1, padding=1, bias=False),\n",
    "            nn.InstanceNorm2d(256, affine=True, track_running_stats=True),\n",
    "\n",
    "            nn.Conv2d(256, 256, 3, stride=1, padding=1, bias=False),\n",
    "            nn.InstanceNorm2d(256, affine=True, track_running_stats=True),\n",
    "            nn.ReLU(inplace=True),\n",
    "            nn.Conv2d(256, 256, 3, stride=1, padding=1, bias=False),\n",
    "            nn.InstanceNorm2d(256, affine=True, track_running_stats=True),\n",
    "\n",
    "            nn.Conv2d(256, 256, 3, stride=1, padding=1, bias=False),\n",
    "            nn.InstanceNorm2d(256, affine=True, track_running_stats=True),\n",
    "            nn.ReLU(inplace=True),\n",
    "            nn.Conv2d(256, 256, 3, stride=1, padding=1, bias=False),\n",
    "            nn.InstanceNorm2d(256, affine=True, track_running_stats=True),\n",
    "\n",
    "            # Upsampling\n",
    "            nn.ConvTranspose2d(256, 128, 4, stride=2, padding=1, bias=False),\n",
    "            nn.InstanceNorm2d(128, affine=True, track_running_stats=True),\n",
    "            nn.ReLU(inplace=True),\n",
    "\n",
    "            nn.ConvTranspose2d(128, 64, 4, stride=2, padding=1, bias=False),\n",
    "            nn.InstanceNorm2d(64, affine=True, track_running_stats=True),\n",
    "            nn.ReLU(inplace=True),\n",
    "\n",
    "            # Output layer\n",
    "            nn.Conv2d(64, channels, 7, stride=1, padding=3),\n",
    "            nn.Tanh()\n",
    "        )\n",
    "\n",
    "    def forward(self, x, c):\n",
    "        c = c.view(c.size(0), c.size(1), 1, 1)\n",
    "        c = c.repeat(1, 1, x.size(2), x.size(3))\n",
    "        x = torch.cat((x, c), 1)\n",
    "        return self.model(x)"
   ]
  },
  {
   "cell_type": "code",
   "execution_count": null,
   "id": "2240b9c8-6f68-4f20-84d0-5324cd153736",
   "metadata": {},
   "outputs": [],
   "source": [
    "generator = Generator(img_shape=img_shape, c_dim=c_dim)\n",
    "generator.to(device)\n",
    "generator.apply(weights_init_normal)"
   ]
  },
  {
   "cell_type": "markdown",
   "id": "7eb51f19-4aea-4247-a325-c52301c91058",
   "metadata": {},
   "source": [
    "# Discriminator"
   ]
  },
  {
   "cell_type": "code",
   "execution_count": null,
   "id": "fe4d9b74-58f3-40d1-a624-ef03c4694cb2",
   "metadata": {},
   "outputs": [],
   "source": [
    "class Discriminator(nn.Module):\n",
    "    def __init__(self, img_shape=(3, 128, 128), c_dim=5, n_strided=6):\n",
    "        super(Discriminator, self).__init__()\n",
    "        channels, img_size, _ = img_shape\n",
    "\n",
    "        self.model = nn.Sequential(\n",
    "            nn.Conv2d(channels, 64, 4, stride=2, padding=1),\n",
    "            nn.LeakyReLU(0.01, inplace=True),\n",
    "\n",
    "            nn.Conv2d(64, 128, 4, stride=2, padding=1),\n",
    "            nn.LeakyReLU(0.01, inplace=True),\n",
    "\n",
    "            nn.Conv2d(128, 256, 4, stride=2, padding=1),\n",
    "            nn.LeakyReLU(0.01, inplace=True),\n",
    "\n",
    "            nn.Conv2d(256, 512, 4, stride=2, padding=1),\n",
    "            nn.LeakyReLU(0.01, inplace=True),\n",
    "\n",
    "            nn.Conv2d(512, 1024, 4, stride=2, padding=1),\n",
    "            nn.LeakyReLU(0.01, inplace=True),\n",
    "\n",
    "            nn.Conv2d(1024, 2048, 4, stride=2, padding=1),\n",
    "            nn.LeakyReLU(0.01, inplace=True),\n",
    "        )\n",
    "\n",
    "        self.adv_out = nn.Conv2d(2048, 1, 3, padding=1, bias=False)\n",
    "\n",
    "        kernel_size = img_size // (2 ** n_strided)\n",
    "        self.cls_out = nn.Conv2d(2048, c_dim, kernel_size, bias=False)\n",
    "\n",
    "    def forward(self, img):\n",
    "        feature_repr = self.model(img)\n",
    "        out_adv = self.adv_out(feature_repr)\n",
    "        out_cls = self.cls_out(feature_repr).view(feature_repr.size(0), -1)\n",
    "        return out_adv, out_cls"
   ]
  },
  {
   "cell_type": "code",
   "execution_count": null,
   "id": "3e6228f1-7b23-4d36-8010-208a81b782f4",
   "metadata": {},
   "outputs": [],
   "source": [
    "discriminator = Discriminator(img_shape=img_shape, c_dim=c_dim)\n",
    "discriminator.to(device)\n",
    "discriminator.apply(weights_init_normal)"
   ]
  },
  {
   "cell_type": "markdown",
   "id": "e6fbcaac-2912-4501-a4c8-6d9a12ffc2dd",
   "metadata": {},
   "source": [
    "# Train"
   ]
  },
  {
   "cell_type": "code",
   "execution_count": null,
   "id": "b5081370-d234-4df6-8d7a-c2b035d6ec0a",
   "metadata": {},
   "outputs": [],
   "source": [
    "criterion_cycle = nn.L1Loss()"
   ]
  },
  {
   "cell_type": "code",
   "execution_count": null,
   "id": "22912da3-3519-4f65-b7ac-0351004a557a",
   "metadata": {},
   "outputs": [],
   "source": [
    "generator_optimizer = optim.Adam(generator.parameters(), lr=0.0001, betas=(0.5, 0.995))\n",
    "discriminator_optimizer = optim.Adam(discriminator.parameters(), lr=0.0001, betas=(0.5, 0.995))"
   ]
  },
  {
   "cell_type": "code",
   "execution_count": null,
   "id": "d8a00fd5-981c-47b8-a2e9-f26d29e09219",
   "metadata": {},
   "outputs": [],
   "source": [
    "lambda_cls = 1\n",
    "lambda_rec = 10\n",
    "lambda_gp = 10\n",
    "n_critic = 5"
   ]
  },
  {
   "cell_type": "code",
   "execution_count": null,
   "id": "e9553ea7-ff8a-42e7-b0c9-5d58b8b9252c",
   "metadata": {},
   "outputs": [],
   "source": [
    "def compute_gradient_penalty(D, real_samples, fake_samples, lambda_gp=10.0):\n",
    "    alpha = torch.tensor(np.random.random((real_samples.size(0), 1, 1, 1)), dtype=torch.float).to(device)\n",
    "    interpolates = (alpha * real_samples + ((1 - alpha) * fake_samples))\n",
    "    interpolates.requires_grad_(True)\n",
    "    d_interpolates, _ = D(interpolates)\n",
    "    fake = torch.ones(d_interpolates.size(), device=device)\n",
    "    gradients = torch.autograd.grad(\n",
    "        outputs=d_interpolates,\n",
    "        inputs=interpolates,\n",
    "        grad_outputs=fake,\n",
    "        create_graph=True,\n",
    "        retain_graph=True,\n",
    "        only_inputs=True,\n",
    "    )[0]\n",
    "\n",
    "    gradients_norm = gradients.norm(2, dim=1)\n",
    "    gradient_penalty = lambda_gp * ((gradients_norm - 1) ** 2).mean()\n",
    "    return gradient_penalty"
   ]
  },
  {
   "cell_type": "code",
   "execution_count": null,
   "id": "27bcb739-a9be-45fa-8b05-79b1c8a7f1ac",
   "metadata": {},
   "outputs": [],
   "source": [
    "n_epochs = 50"
   ]
  },
  {
   "cell_type": "code",
   "execution_count": null,
   "id": "b2b19614-d75c-4979-840f-db07ca089480",
   "metadata": {},
   "outputs": [],
   "source": [
    "os.makedirs(\"./stargan\", exist_ok=True)"
   ]
  },
  {
   "cell_type": "code",
   "execution_count": null,
   "id": "004ed42f-eb26-41a3-a370-432c215ae9b8",
   "metadata": {},
   "outputs": [],
   "source": [
    "d_loss_adv = []\n",
    "d_loss_cls = []\n",
    "d_loss_s = []\n",
    "\n",
    "g_loss_adv = []\n",
    "g_loss_cls = []\n",
    "g_loss_s = []"
   ]
  },
  {
   "cell_type": "code",
   "execution_count": null,
   "id": "8d844ab5-14e7-4988-870f-0f5d8fb699c1",
   "metadata": {},
   "outputs": [],
   "source": [
    "label_changes = [\n",
    "    ((0, 1), (1, 0), (2, 0)),  # Set to black hair\n",
    "    ((0, 0), (1, 1), (2, 0)),  # Set to blonde hair\n",
    "    ((0, 0), (1, 0), (2, 1)),  # Set to brown hair\n",
    "    ((3, -1),),  # Flip gender\n",
    "    ((4, -1),),  # Age flip\n",
    "]"
   ]
  },
  {
   "cell_type": "code",
   "execution_count": null,
   "id": "1338d746-6556-49d3-a9bb-9be72ce5df53",
   "metadata": {},
   "outputs": [],
   "source": [
    "for epoch in range(n_epochs):\n",
    "    for batch_idx, (images, labels) in enumerate(train_dataloader):\n",
    "        images = images.to(device)\n",
    "        labels = labels.to(device)\n",
    "\n",
    "        sampled_c = torch.randint(0, 2, (images.size(0), c_dim), dtype=torch.float32, device=device)\n",
    "\n",
    "        fake_images = generator(images, sampled_c)\n",
    "\n",
    "        discriminator_optimizer.zero_grad()\n",
    "\n",
    "        real_validity, pred_cls = discriminator(images)\n",
    "        \n",
    "        fake_validity, _ = discriminator(fake_images.detach())\n",
    "        \n",
    "        gradient_penalty = compute_gradient_penalty(discriminator, images, fake_images, lambda_gp)\n",
    "        \n",
    "        loss_D_adv = -torch.mean(real_validity) + torch.mean(fake_validity) + lambda_gp * gradient_penalty\n",
    "        \n",
    "        loss_D_cls = F.binary_cross_entropy_with_logits(pred_cls, labels, size_average=False) / pred_cls.size(0)\n",
    "        \n",
    "        loss_D = loss_D_adv + lambda_cls * loss_D_cls\n",
    "\n",
    "        loss_D.backward()\n",
    "        discriminator_optimizer.step()\n",
    "\n",
    "        if batch_idx % n_critic == 0:\n",
    "            generator_optimizer.zero_grad()\n",
    "\n",
    "            generated_images = generator(images, sampled_c)\n",
    "            recov_imgs = generator(generated_images, labels)\n",
    "            \n",
    "            fake_validity, pred_cls = discriminator(generated_images)\n",
    "            \n",
    "            loss_G_adv = -torch.mean(fake_validity)\n",
    "            \n",
    "            loss_G_cls = F.binary_cross_entropy_with_logits(pred_cls, sampled_c, size_average=False) / pred_cls.size(0)\n",
    "            \n",
    "            loss_G_rec = criterion_cycle(recov_imgs, images)\n",
    "            \n",
    "            loss_G = loss_G_adv + lambda_cls * loss_G_cls + lambda_rec * loss_G_rec\n",
    "\n",
    "            loss_G.backward()\n",
    "            generator_optimizer.step()\n",
    "\n",
    "        if batch_idx % 12538 == 0:\n",
    "            d_loss_adv.append(loss_D_adv.item())\n",
    "            d_loss_cls.append(loss_D_cls.item())\n",
    "            d_loss_s.append(loss_D.item())\n",
    "\n",
    "            g_loss_adv.append(loss_G_adv.item())\n",
    "            g_loss_cls.append(loss_G_cls.item())\n",
    "            g_loss_s.append(loss_G.item())\n",
    "            \n",
    "            \n",
    "            print(f\"[Epoch {epoch+1}/{n_epochs}] [Batch {batch_idx}/{len(train_dataloader)}] [D loss: {loss_D:.6f}] [G loss: {loss_G:.6f}]\")\n",
    "\n",
    "            valid_images, valid_labels = next(iter(valid_dataloader))\n",
    "            \n",
    "            valid_images = valid_images.to(device)\n",
    "            valid_labels = valid_labels.to(device)\n",
    "            \n",
    "            img_samples = None\n",
    "            \n",
    "            for i in range(10):\n",
    "                img, label = valid_images[i], valid_labels[i]\n",
    "                \n",
    "                images = img.repeat(c_dim, 1, 1, 1)\n",
    "                labels = label.repeat(c_dim, 1)\n",
    "                \n",
    "                for sample_i, changes in enumerate(label_changes):\n",
    "                    for col, val in changes:\n",
    "                        labels[sample_i, col] = 1 - labels[sample_i, col] if val == -1 else val\n",
    "                \n",
    "                generated_images = generator(images, labels)\n",
    "                generated_images = torch.cat([x for x in generated_images], -1)\n",
    "                img_sample = torch.cat((img, generated_images), -1)\n",
    "                \n",
    "                img_samples = img_sample if img_samples is None else torch.cat((img_samples, img_sample), -2)\n",
    "            \n",
    "            save_image(img_samples.view(1, *img_samples.shape), f\"./stargan/epoch_{epoch}.png\", normalize=True)"
   ]
  },
  {
   "cell_type": "code",
   "execution_count": null,
   "id": "e25c6a73-389e-4046-90bd-20e7fe0c2726",
   "metadata": {},
   "outputs": [],
   "source": []
  },
  {
   "cell_type": "code",
   "execution_count": null,
   "id": "52fd6be7-22f9-448a-9f20-3ea881531f1f",
   "metadata": {},
   "outputs": [],
   "source": []
  },
  {
   "cell_type": "code",
   "execution_count": null,
   "id": "c41fd5db-2aea-49f7-90c1-d327cb716aa8",
   "metadata": {},
   "outputs": [],
   "source": []
  },
  {
   "cell_type": "code",
   "execution_count": null,
   "id": "d10adc31-0ce7-4277-9158-6627b80f219d",
   "metadata": {},
   "outputs": [],
   "source": []
  },
  {
   "cell_type": "code",
   "execution_count": null,
   "id": "2ef39fa3-286a-4845-9e9b-077d8d9fb78e",
   "metadata": {},
   "outputs": [],
   "source": []
  },
  {
   "cell_type": "code",
   "execution_count": null,
   "id": "784d62f9-7efc-4e17-b4ea-882f94c65fd5",
   "metadata": {},
   "outputs": [],
   "source": []
  },
  {
   "cell_type": "code",
   "execution_count": null,
   "id": "c883c357-2edc-409f-bf21-5e55bffab8a7",
   "metadata": {},
   "outputs": [],
   "source": []
  }
 ],
 "metadata": {
  "kernelspec": {
   "display_name": "Python 3 (ipykernel)",
   "language": "python",
   "name": "python3"
  },
  "language_info": {
   "codemirror_mode": {
    "name": "ipython",
    "version": 3
   },
   "file_extension": ".py",
   "mimetype": "text/x-python",
   "name": "python",
   "nbconvert_exporter": "python",
   "pygments_lexer": "ipython3",
   "version": "3.10.12"
  }
 },
 "nbformat": 4,
 "nbformat_minor": 5
}
